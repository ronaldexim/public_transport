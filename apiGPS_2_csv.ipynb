{
 "cells": [
  {
   "cell_type": "code",
   "execution_count": 2,
   "metadata": {},
   "outputs": [],
   "source": [
    "import urllib.request, json, csv, geopy.distance\n",
    "import pandas as pd\n",
    "import numpy as np\n",
    "from datetime import datetime\n",
    "from time import sleep, strptime, mktime\n",
    "apikey = ''"
   ]
  },
  {
   "cell_type": "code",
   "execution_count": 3,
   "metadata": {},
   "outputs": [],
   "source": [
    "GPS_resource_id = 'f2e5503e-927d-4ad3-9500-4ab9e55deb59'\n",
    "resorce_type = ('1', '2')\n",
    "GPS_columns = ['Lines', 'VehicleNumber', 'Brigade', 'Time', 'Lon', 'Lat',\\\n",
    "               'res_type', 'qTime', 'd_time', 'd_dist', 'coord', 'uniqID', 'vehID']\n",
    "last_GPS_df = pd.DataFrame([], columns=GPS_columns)\n",
    "\n",
    "def delta_time(vehID, new_time):\n",
    "    last_time = last_GPS_df[last_GPS_df.vehID == vehID]['Time']\n",
    "    if (len(last_time)>0):\n",
    "        last_time = strptime(last_time.values[0], \"%Y-%m-%d %H:%M:%S\")\n",
    "        new_time = strptime(new_time, \"%Y-%m-%d %H:%M:%S\")\n",
    "        return int(mktime(new_time) - mktime(last_time))\n",
    "    return -1\n",
    "\n",
    "def delta_dist(vehID, new_coord):\n",
    "    last_coord = last_GPS_df[last_GPS_df.vehID == vehID]['coord']\n",
    "    if (len(last_coord)>0):\n",
    "        return round(geopy.distance.distance(last_coord, new_coord).kilometers, 5)\n",
    "    return -1"
   ]
  },
  {
   "cell_type": "code",
   "execution_count": 4,
   "metadata": {},
   "outputs": [
    {
     "name": "stdout",
     "output_type": "stream",
     "text": [
      "(944, 13) (944, 13) (944, 13)\n"
     ]
    },
    {
     "name": "stderr",
     "output_type": "stream",
     "text": [
      "D:\\Anaconda3\\lib\\site-packages\\ipykernel_launcher.py:23: SettingWithCopyWarning: \n",
      "A value is trying to be set on a copy of a slice from a DataFrame.\n",
      "Try using .loc[row_indexer,col_indexer] = value instead\n",
      "\n",
      "See the caveats in the documentation: http://pandas.pydata.org/pandas-docs/stable/indexing.html#indexing-view-versus-copy\n",
      "D:\\Anaconda3\\lib\\site-packages\\ipykernel_launcher.py:24: SettingWithCopyWarning: \n",
      "A value is trying to be set on a copy of a slice from a DataFrame.\n",
      "Try using .loc[row_indexer,col_indexer] = value instead\n",
      "\n",
      "See the caveats in the documentation: http://pandas.pydata.org/pandas-docs/stable/indexing.html#indexing-view-versus-copy\n"
     ]
    },
    {
     "name": "stdout",
     "output_type": "stream",
     "text": [
      "(362, 13) (946, 13) (943, 13)\n",
      "(358, 13) (948, 13) (945, 13)\n",
      "(382, 13) (948, 13) (942, 13)\n",
      "(46, 13) (948, 13) (941, 13)\n",
      "(334, 13) (948, 13) (942, 13)\n",
      "(439, 13) (949, 13) (942, 13)\n",
      "(362, 13) (949, 13) (940, 13)\n",
      "(45, 13) (949, 13) (939, 13)\n",
      "(369, 13) (949, 13) (938, 13)\n",
      "(311, 13) (949, 13) (937, 13)\n"
     ]
    },
    {
     "ename": "KeyboardInterrupt",
     "evalue": "",
     "output_type": "error",
     "traceback": [
      "\u001b[1;31m---------------------------------------------------------------------------\u001b[0m",
      "\u001b[1;31mKeyboardInterrupt\u001b[0m                         Traceback (most recent call last)",
      "\u001b[1;32m<ipython-input-4-f243c65dccce>\u001b[0m in \u001b[0;36m<module>\u001b[1;34m\u001b[0m\n\u001b[0;32m      1\u001b[0m \u001b[1;32mwhile\u001b[0m \u001b[1;32mTrue\u001b[0m\u001b[1;33m:\u001b[0m\u001b[1;33m\u001b[0m\u001b[1;33m\u001b[0m\u001b[0m\n\u001b[1;32m----> 2\u001b[1;33m     \u001b[0msleep\u001b[0m\u001b[1;33m(\u001b[0m\u001b[1;36m5\u001b[0m\u001b[1;33m)\u001b[0m\u001b[1;33m\u001b[0m\u001b[1;33m\u001b[0m\u001b[0m\n\u001b[0m\u001b[0;32m      3\u001b[0m     \u001b[0mnew_GPS_df\u001b[0m \u001b[1;33m=\u001b[0m \u001b[0mpd\u001b[0m\u001b[1;33m.\u001b[0m\u001b[0mDataFrame\u001b[0m\u001b[1;33m(\u001b[0m\u001b[1;33m[\u001b[0m\u001b[1;33m]\u001b[0m\u001b[1;33m,\u001b[0m \u001b[0mcolumns\u001b[0m\u001b[1;33m=\u001b[0m\u001b[0mGPS_columns\u001b[0m\u001b[1;33m)\u001b[0m\u001b[1;33m\u001b[0m\u001b[1;33m\u001b[0m\u001b[0m\n\u001b[0;32m      4\u001b[0m     \u001b[1;32mfor\u001b[0m \u001b[0mone\u001b[0m \u001b[1;32min\u001b[0m \u001b[0mresorce_type\u001b[0m\u001b[1;33m:\u001b[0m\u001b[1;33m\u001b[0m\u001b[1;33m\u001b[0m\u001b[0m\n\u001b[0;32m      5\u001b[0m         \u001b[0mapi\u001b[0m \u001b[1;33m=\u001b[0m \u001b[1;34mf'https://api.um.warszawa.pl/api/action/busestrams_get/?apikey={apikey}&type={one}&resource_id={GPS_resource_id}'\u001b[0m\u001b[1;33m\u001b[0m\u001b[1;33m\u001b[0m\u001b[0m\n",
      "\u001b[1;31mKeyboardInterrupt\u001b[0m: "
     ]
    }
   ],
   "source": [
    "while True:\n",
    "    sleep(5)\n",
    "    new_GPS_df = pd.DataFrame([], columns=GPS_columns)\n",
    "    for one in resorce_type:\n",
    "        api = f'https://api.um.warszawa.pl/api/action/busestrams_get/?apikey={apikey}&type={one}&resource_id={GPS_resource_id}'\n",
    "        with urllib.request.urlopen(api) as url:\n",
    "            dataGPS = json.loads(url.read().decode())['result']\n",
    "        if(type(dataGPS)==str): #Błędna metoda lub parametry wywołania\n",
    "            continue\n",
    "        df = pd.DataFrame(dataGPS, columns=GPS_columns)       \n",
    "        df['coord'] = df[ ['Lon', 'Lat'] ].apply(lambda x: \\\n",
    "                (pd.to_numeric(x['Lat'], errors='coerce'), pd.to_numeric(x['Lon'], errors='coerce')), axis=1)        \n",
    "        df['res_type'] = one\n",
    "        df['qTime'] = datetime.now().strftime('%Y-%m-%d %H:%M:%S')\n",
    "        df['uniqID'] = df[ ['Lines', 'VehicleNumber', 'Brigade', 'Time'] ]\\\n",
    "            .apply(lambda x: (x['Lines']+'_'+x['VehicleNumber']+'_'+x['Brigade']+'_'+x['Time']), axis=1)\n",
    "        df['vehID'] = df[ ['Lines', 'VehicleNumber', 'Brigade'] ]\\\n",
    "            .apply(lambda x: (x['Lines']+'_'+x['VehicleNumber']+'_'+x['Brigade']), axis=1)\n",
    "        new_GPS_df = pd.concat([new_GPS_df, df])\n",
    "    uniq_items = new_GPS_df[~new_GPS_df.uniqID.isin(last_GPS_df.uniqID)]\n",
    "    if(len(uniq_items)==0): \n",
    "        continue\n",
    "    uniq_items['d_time'] = uniq_items[ ['vehID', 'Time'] ].apply(lambda x: delta_time(x['vehID'], x['Time']), axis=1)\n",
    "    uniq_items['d_dist'] = uniq_items[ ['vehID', 'coord'] ].apply(lambda x: delta_dist(x['vehID'], x['coord']), axis=1)\n",
    "    #uniq_items['mean_veloc'] = \n",
    "    last_GPS_df = pd.concat([last_GPS_df, new_GPS_df])\n",
    "    last_GPS_df.drop_duplicates(subset=['vehID'], inplace=True, keep='last')\n",
    "    print(uniq_items.shape, last_GPS_df.shape, new_GPS_df.shape)\n",
    "    with open('dataGPS.csv', 'a') as f:\n",
    "        uniq_items.iloc[:,0:10].to_csv(f, header=False, index=False, sep=',')"
   ]
  }
 ],
 "metadata": {
  "kernelspec": {
   "display_name": "Python 3",
   "language": "python",
   "name": "python3"
  },
  "language_info": {
   "codemirror_mode": {
    "name": "ipython",
    "version": 3
   },
   "file_extension": ".py",
   "mimetype": "text/x-python",
   "name": "python",
   "nbconvert_exporter": "python",
   "pygments_lexer": "ipython3",
   "version": "3.7.1"
  }
 },
 "nbformat": 4,
 "nbformat_minor": 2
}
