{
 "cells": [
  {
   "cell_type": "code",
   "execution_count": 21,
   "metadata": {},
   "outputs": [],
   "source": [
    "import pandas as pd\n",
    "import numpy as np\n",
    "import pickle\n",
    "import urllib.request, json\n",
    "import datetime\n",
    "import geopy.distance\n",
    "from tqdm import tqdm\n",
    "\n",
    "apikey = ''"
   ]
  },
  {
   "cell_type": "code",
   "execution_count": 2,
   "metadata": {},
   "outputs": [],
   "source": [
    "lines_df = pd.read_hdf('public_transport_warsaw.h5', key='lines_df', mode='r')"
   ]
  },
  {
   "cell_type": "code",
   "execution_count": 3,
   "metadata": {},
   "outputs": [
    {
     "name": "stdout",
     "output_type": "stream",
     "text": [
      "(345, 3)\n",
      "Index(['line_nr', 'stops', 'stops_nr'], dtype='object')\n",
      "line_nr     object\n",
      "stops       object\n",
      "stops_nr     int64\n",
      "dtype: object\n"
     ]
    }
   ],
   "source": [
    "print(lines_df.shape)\n",
    "print(lines_df.columns)\n",
    "print(lines_df.dtypes)"
   ]
  },
  {
   "cell_type": "code",
   "execution_count": 2,
   "metadata": {},
   "outputs": [],
   "source": [
    "schedule_df = pd.read_hdf('public_transport_warsaw2.h5', key='schedule_df_2', mode='r')\n",
    "stops_df = pd.read_hdf('public_transport_warsaw.h5', key='stops_df_4', mode='r')"
   ]
  },
  {
   "cell_type": "code",
   "execution_count": 6,
   "metadata": {},
   "outputs": [
    {
     "name": "stdout",
     "output_type": "stream",
     "text": [
      "(7727, 19)\n",
      "Index(['zespol', 'nazwa_zespolu', 'slupek', 'id_ulicy', 'kierunek', 'dlug_geo',\n",
      "       'szer_geo', 'obowiazuje_od', 'line', 'id_nu', 'no_line', 'changed',\n",
      "       'error', 'last_change', 'actual', 'deleted', 'dlug_f', 'szer_f',\n",
      "       'coord'],\n",
      "      dtype='object')\n",
      "zespol                   object\n",
      "nazwa_zespolu            object\n",
      "slupek                   object\n",
      "id_ulicy                 object\n",
      "kierunek                 object\n",
      "dlug_geo                 object\n",
      "szer_geo                 object\n",
      "obowiazuje_od    datetime64[ns]\n",
      "line                     object\n",
      "id_nu                    object\n",
      "no_line                    bool\n",
      "changed                   int64\n",
      "error                      bool\n",
      "last_change      datetime64[ns]\n",
      "actual                     bool\n",
      "deleted                    bool\n",
      "dlug_f                  float64\n",
      "szer_f                  float64\n",
      "coord                    object\n",
      "dtype: object\n"
     ]
    },
    {
     "data": {
      "text/html": [
       "<div>\n",
       "<style scoped>\n",
       "    .dataframe tbody tr th:only-of-type {\n",
       "        vertical-align: middle;\n",
       "    }\n",
       "\n",
       "    .dataframe tbody tr th {\n",
       "        vertical-align: top;\n",
       "    }\n",
       "\n",
       "    .dataframe thead th {\n",
       "        text-align: right;\n",
       "    }\n",
       "</style>\n",
       "<table border=\"1\" class=\"dataframe\">\n",
       "  <thead>\n",
       "    <tr style=\"text-align: right;\">\n",
       "      <th></th>\n",
       "      <th>zespol</th>\n",
       "      <th>nazwa_zespolu</th>\n",
       "      <th>slupek</th>\n",
       "      <th>id_ulicy</th>\n",
       "      <th>kierunek</th>\n",
       "      <th>dlug_geo</th>\n",
       "      <th>szer_geo</th>\n",
       "      <th>obowiazuje_od</th>\n",
       "      <th>line</th>\n",
       "      <th>id_nu</th>\n",
       "      <th>no_line</th>\n",
       "      <th>changed</th>\n",
       "      <th>error</th>\n",
       "      <th>last_change</th>\n",
       "      <th>actual</th>\n",
       "      <th>deleted</th>\n",
       "      <th>dlug_f</th>\n",
       "      <th>szer_f</th>\n",
       "      <th>coord</th>\n",
       "    </tr>\n",
       "  </thead>\n",
       "  <tbody>\n",
       "    <tr>\n",
       "      <th>0</th>\n",
       "      <td>1001</td>\n",
       "      <td>Kijowska</td>\n",
       "      <td>01</td>\n",
       "      <td>2201</td>\n",
       "      <td>al.Zieleniecka</td>\n",
       "      <td>21.044827</td>\n",
       "      <td>52.248455</td>\n",
       "      <td>2019-09-19</td>\n",
       "      <td>{138, 146, 509, 166, 147, 202, N71, N03, N02, ...</td>\n",
       "      <td>1001_01</td>\n",
       "      <td>False</td>\n",
       "      <td>1</td>\n",
       "      <td>False</td>\n",
       "      <td>2019-09-19</td>\n",
       "      <td>True</td>\n",
       "      <td>False</td>\n",
       "      <td>21.044827</td>\n",
       "      <td>52.248455</td>\n",
       "      <td>(52.248455, 21.044826999999998)</td>\n",
       "    </tr>\n",
       "  </tbody>\n",
       "</table>\n",
       "</div>"
      ],
      "text/plain": [
       "  zespol nazwa_zespolu slupek id_ulicy        kierunek   dlug_geo   szer_geo  \\\n",
       "0   1001      Kijowska     01     2201  al.Zieleniecka  21.044827  52.248455   \n",
       "\n",
       "  obowiazuje_od                                               line    id_nu  \\\n",
       "0    2019-09-19  {138, 146, 509, 166, 147, 202, N71, N03, N02, ...  1001_01   \n",
       "\n",
       "   no_line  changed  error last_change  actual  deleted     dlug_f     szer_f  \\\n",
       "0    False        1  False  2019-09-19    True    False  21.044827  52.248455   \n",
       "\n",
       "                             coord  \n",
       "0  (52.248455, 21.044826999999998)  "
      ]
     },
     "execution_count": 6,
     "metadata": {},
     "output_type": "execute_result"
    }
   ],
   "source": [
    "print(stops_df.shape)\n",
    "print(stops_df.columns)\n",
    "print(stops_df.dtypes)\n",
    "stops_df.head(1)"
   ]
  },
  {
   "cell_type": "code",
   "execution_count": 8,
   "metadata": {},
   "outputs": [
    {
     "name": "stdout",
     "output_type": "stream",
     "text": [
      "(918719, 13)\n",
      "Index(['line', 'id_nu', 'brygada', 'kierunek', 'trasa', 'czas', 'symbol_1',\n",
      "       'symbol_2', 'idx', 'run_id', 'group_id', 'stop_count', 'stop_max'],\n",
      "      dtype='object')\n",
      "line          object\n",
      "id_nu         object\n",
      "brygada       object\n",
      "kierunek      object\n",
      "trasa         object\n",
      "czas          object\n",
      "symbol_1      object\n",
      "symbol_2      object\n",
      "idx            int64\n",
      "run_id        object\n",
      "group_id      object\n",
      "stop_count     int64\n",
      "stop_max       int64\n",
      "dtype: object\n"
     ]
    },
    {
     "data": {
      "text/html": [
       "<div>\n",
       "<style scoped>\n",
       "    .dataframe tbody tr th:only-of-type {\n",
       "        vertical-align: middle;\n",
       "    }\n",
       "\n",
       "    .dataframe tbody tr th {\n",
       "        vertical-align: top;\n",
       "    }\n",
       "\n",
       "    .dataframe thead th {\n",
       "        text-align: right;\n",
       "    }\n",
       "</style>\n",
       "<table border=\"1\" class=\"dataframe\">\n",
       "  <thead>\n",
       "    <tr style=\"text-align: right;\">\n",
       "      <th></th>\n",
       "      <th>line</th>\n",
       "      <th>id_nu</th>\n",
       "      <th>brygada</th>\n",
       "      <th>kierunek</th>\n",
       "      <th>trasa</th>\n",
       "      <th>czas</th>\n",
       "      <th>symbol_1</th>\n",
       "      <th>symbol_2</th>\n",
       "      <th>idx</th>\n",
       "      <th>run_id</th>\n",
       "      <th>group_id</th>\n",
       "      <th>stop_count</th>\n",
       "      <th>stop_max</th>\n",
       "    </tr>\n",
       "  </thead>\n",
       "  <tbody>\n",
       "    <tr>\n",
       "      <th>0</th>\n",
       "      <td>1</td>\n",
       "      <td>1006_03</td>\n",
       "      <td>12</td>\n",
       "      <td>Banacha</td>\n",
       "      <td>TP-BAN</td>\n",
       "      <td>04:50:00</td>\n",
       "      <td>null</td>\n",
       "      <td>null</td>\n",
       "      <td>0</td>\n",
       "      <td>1_12_0</td>\n",
       "      <td>1_12</td>\n",
       "      <td>50</td>\n",
       "      <td>50</td>\n",
       "    </tr>\n",
       "  </tbody>\n",
       "</table>\n",
       "</div>"
      ],
      "text/plain": [
       "  line    id_nu brygada kierunek   trasa      czas symbol_1 symbol_2  idx  \\\n",
       "0    1  1006_03      12  Banacha  TP-BAN  04:50:00     null     null    0   \n",
       "\n",
       "   run_id group_id  stop_count  stop_max  \n",
       "0  1_12_0     1_12          50        50  "
      ]
     },
     "execution_count": 8,
     "metadata": {},
     "output_type": "execute_result"
    }
   ],
   "source": [
    "print(schedule_df.shape)\n",
    "print(schedule_df.columns)\n",
    "print(schedule_df.dtypes)\n",
    "schedule_df.head(1)"
   ]
  },
  {
   "cell_type": "code",
   "execution_count": 3,
   "metadata": {},
   "outputs": [],
   "source": [
    "stop_coords = stops_df[stops_df.actual].set_index('id_nu')[['coord']].to_dict('dict')['coord']"
   ]
  },
  {
   "cell_type": "code",
   "execution_count": 3,
   "metadata": {},
   "outputs": [
    {
     "name": "stderr",
     "output_type": "stream",
     "text": [
      "918719it [04:32, 3368.30it/s]\n"
     ]
    },
    {
     "name": "stdout",
     "output_type": "stream",
     "text": [
      "3599\n"
     ]
    }
   ],
   "source": [
    "schedule_dict = {} # klucz (linia, brygada), zawiera listy z kolejnymi przystankami i planowanymi godzinami przyjazdu\n",
    "                   # todo - kolejne pola mogą zawierać czas od początku trasy i odległość od początku trasy\n",
    "\n",
    "for one in tqdm(schedule_df.itertuples()):       # 918719it [04:32, 3368.30it/s]\n",
    "    mark = (one.line, one.brygada)\n",
    "    if mark not in schedule_dict:\n",
    "        stops = schedule_df[schedule_df.line.isin([one.line]) & \n",
    "                            schedule_df.brygada.isin([one.brygada])\n",
    "                           ].sort_values(['czas'])[['id_nu', 'czas', 'kierunek', 'trasa']].values\n",
    "        schedule_dict[mark] = stops\n",
    "            \n",
    "print(len(schedule_dict))"
   ]
  },
  {
   "cell_type": "code",
   "execution_count": 19,
   "metadata": {},
   "outputs": [
    {
     "data": {
      "text/plain": [
       "'05:41:00'"
      ]
     },
     "execution_count": 19,
     "metadata": {},
     "output_type": "execute_result"
    }
   ],
   "source": [
    "from datetime import datetime\n",
    "datetime.strptime(schedule_dict[('122', '4')][0][1], '%H:%M:%S')\n",
    "schedule_dict[('122', '4')][0][1]"
   ]
  },
  {
   "cell_type": "code",
   "execution_count": 35,
   "metadata": {},
   "outputs": [],
   "source": [
    "with open('schedule_dict.pickle', 'wb') as fp:\n",
    "    pickle.dump(schedule_dict, fp)"
   ]
  },
  {
   "cell_type": "code",
   "execution_count": 36,
   "metadata": {},
   "outputs": [],
   "source": [
    "with open('schedule_dict.pickle', 'rb') as fp:\n",
    "    schedule_dict = pickle.load(fp)"
   ]
  },
  {
   "cell_type": "code",
   "execution_count": null,
   "metadata": {},
   "outputs": [],
   "source": [
    "schedule_dict[('122', '4')]"
   ]
  },
  {
   "cell_type": "code",
   "execution_count": 43,
   "metadata": {},
   "outputs": [
    {
     "data": {
      "text/plain": [
       "['5050_08', '05:41:00', 'Gwiaździsta', 'TP-GWI', 0, 0.0, 0.0]"
      ]
     },
     "execution_count": 43,
     "metadata": {},
     "output_type": "execute_result"
    }
   ],
   "source": [
    "schedule_dict[('122', '4')][0]"
   ]
  },
  {
   "cell_type": "markdown",
   "metadata": {},
   "source": [
    "liczenie średniej prędkości dla całego dnia"
   ]
  },
  {
   "cell_type": "code",
   "execution_count": 34,
   "metadata": {},
   "outputs": [
    {
     "data": {
      "text/plain": [
       "13.88270312815338"
      ]
     },
     "execution_count": 34,
     "metadata": {},
     "output_type": "execute_result"
    }
   ],
   "source": [
    "235.60416 / (60120.0 / 60 / 60)\n",
    "229.29598 / (59460.0 / 60 / 60)"
   ]
  },
  {
   "cell_type": "code",
   "execution_count": 26,
   "metadata": {},
   "outputs": [],
   "source": [
    "def delta_seconds(start, stop):\n",
    "    t_start = datetime.timedelta(hours=int(start[0:2]), minutes=int(start[3:5]), seconds=int(start[6:8]))\n",
    "    t_stop = datetime.timedelta(hours=int(stop[0:2]), minutes=int(stop[3:5]), seconds=int(stop[6:8]))\n",
    "    return (t_stop-t_start).total_seconds()\n",
    "\n",
    "def distance(last_coord, new_coord):\n",
    "    return round(geopy.distance.distance(last_coord, new_coord).kilometers, 5)"
   ]
  },
  {
   "cell_type": "code",
   "execution_count": 27,
   "metadata": {},
   "outputs": [
    {
     "name": "stderr",
     "output_type": "stream",
     "text": [
      "100%|██████████████████████████████████████████████████████████████████████████████| 3599/3599 [03:06<00:00, 19.33it/s]\n"
     ]
    }
   ],
   "source": [
    "#dodawanie kolumn\n",
    "\n",
    "for x in tqdm(schedule_dict.keys()):                     #3599/3599 [03:06<00:00, 19.33it/s]\n",
    "    if len(x) > 4: continue    # second pass\n",
    "    one = schedule_dict[x]\n",
    "    t_first = one[0][1]\n",
    "    p_prev = stop_coords[one[0][0]]\n",
    "    direction = one[0][2]\n",
    "    nr_round = 0\n",
    "    dist_total = 0.0\n",
    "    new_one = []\n",
    "    for a in one:\n",
    "        t_curr = a[1]\n",
    "        p_curr = stop_coords[a[0]]\n",
    "        dist_total += distance(p_prev, p_curr)\n",
    "        p_prev = p_curr\n",
    "        if a[2] != direction:\n",
    "            direction = a[2]\n",
    "            nr_round += 1\n",
    "        b = [nr_round, delta_seconds(t_first, t_curr), round(dist_total,5)]\n",
    "        new_one.append([*a, *b])\n",
    "    schedule_dict[x] = new_one"
   ]
  },
  {
   "cell_type": "markdown",
   "metadata": {},
   "source": [
    "### schedule_df generator"
   ]
  },
  {
   "cell_type": "code",
   "execution_count": 18,
   "metadata": {},
   "outputs": [],
   "source": [
    "def take_schedule(id_nu, line):\n",
    "    [stop_id, stop_nr] = id_nu.split('_')\n",
    "    api = 'https://api.um.warszawa.pl/api/action/dbtimetable_get?id=e923fa0e-d96c-43f9-ae6e-60518c9f3238' + \\\n",
    "        '&busstopId=' + stop_id + '&busstopNr=' + stop_nr + '&line=' + line + '&apikey=' + apikey\n",
    "    try:\n",
    "        with urllib.request.urlopen(api) as url:\n",
    "            data_list = []\n",
    "            data = json.loads(url.read().decode())['result']\n",
    "            if (type(data) == str):\n",
    "                raise Exception('API error')\n",
    "            for one in data:\n",
    "                row_dict = {}\n",
    "                row_dict['line'] = line\n",
    "                row_dict['id_nu'] = id_nu\n",
    "                for col in one['values']:\n",
    "                    row_dict[col['key']] = col['value']\n",
    "                data_list.append(row_dict)\n",
    "            return data_list\n",
    "    except:\n",
    "        print('error', stop_id, stop_nr, line)\n",
    "        return"
   ]
  },
  {
   "cell_type": "code",
   "execution_count": null,
   "metadata": {},
   "outputs": [],
   "source": [
    "schedule_columns = ['line', 'id_nu', 'brygada', 'kierunek', 'trasa', 'czas', 'symbol_1', 'symbol_2']\n",
    "if 'schedule_df' not in dir():\n",
    "    schedule_df = pd.DataFrame([], columns=schedule_columns)\n",
    "    print('starting new schedule_df')\n",
    "else:\n",
    "    print('adding to schedule_df')\n",
    "    \n",
    "for index, line in lines_df.iterrows():\n",
    "    for stop in line['stops']:       \n",
    "        print(line['line_nr'], stop)     \n",
    "        one = take_schedule(stop, line['line_nr'])\n",
    "        one_df = pd.DataFrame(one, columns=schedule_columns)\n",
    "        schedule_df = pd.concat([schedule_df, one_df])"
   ]
  },
  {
   "cell_type": "markdown",
   "metadata": {},
   "source": [
    "### schedule_df feature engineering"
   ]
  },
  {
   "cell_type": "code",
   "execution_count": null,
   "metadata": {},
   "outputs": [],
   "source": [
    "#schedule_df.to_hdf('public_transport_warsaw2.h5', key='schedule_df_2')"
   ]
  },
  {
   "cell_type": "markdown",
   "metadata": {},
   "source": [
    "kolumna 'idx' jest do pominięcia - zły trop"
   ]
  },
  {
   "cell_type": "code",
   "execution_count": 3,
   "metadata": {},
   "outputs": [],
   "source": [
    "schedule_df['idx'] = schedule_df.index\n",
    "schedule_df['run_id'] = schedule_df[ ['line', 'brygada', 'idx'] ]\\\n",
    "            .apply(lambda x: (x['line']+'_'+x['brygada']+'_'+str(x['idx'])), axis=1)\n",
    "schedule_df['group_id'] = schedule_df[ ['line', 'brygada'] ]\\\n",
    "            .apply(lambda x: (x['line']+'_'+x['brygada']), axis=1)\n",
    "schedule_df['stop_count'] = schedule_df.groupby(['run_id']).transform(len) #slow\n",
    "schedule_df['stop_max'] = schedule_df.groupby(['group_id'])['stop_count'].transform(max)\n",
    "schedule_df['ride'] = schedule_df[ ['line', 'idx', 'kierunek'] ]\\\n",
    "            .apply(lambda x: (x['line']+'_'+str(x['idx'])+'_'+str(x['kierunek'])), axis=1)"
   ]
  },
  {
   "cell_type": "code",
   "execution_count": 6,
   "metadata": {},
   "outputs": [
    {
     "data": {
      "text/plain": [
       "TP-GOR      3168\n",
       "TP-GWI      2800\n",
       "TX-GWI02     238\n",
       "TD-1GWI       27\n",
       "Name: trasa, dtype: int64"
      ]
     },
     "execution_count": 6,
     "metadata": {},
     "output_type": "execute_result"
    }
   ],
   "source": [
    "schedule_df[schedule_df.line == '122'].trasa.value_counts()"
   ]
  },
  {
   "cell_type": "code",
   "execution_count": 7,
   "metadata": {},
   "outputs": [
    {
     "data": {
      "text/plain": [
       "os.Górczewska    3168\n",
       "Gwiaździsta      3065\n",
       "Name: kierunek, dtype: int64"
      ]
     },
     "execution_count": 7,
     "metadata": {},
     "output_type": "execute_result"
    }
   ],
   "source": [
    "schedule_df[schedule_df.line == '122'].kierunek.value_counts()"
   ]
  },
  {
   "cell_type": "code",
   "execution_count": 92,
   "metadata": {},
   "outputs": [
    {
     "data": {
      "text/plain": [
       "14"
      ]
     },
     "execution_count": 92,
     "metadata": {},
     "output_type": "execute_result"
    }
   ],
   "source": [
    "schedule_df[schedule_df.line.isin(['122'])\n",
    "           & schedule_df.kierunek.isin(['Gwiaździsta'])\n",
    "           ].brygada.value_counts().count()"
   ]
  },
  {
   "cell_type": "code",
   "execution_count": 11,
   "metadata": {},
   "outputs": [
    {
     "data": {
      "text/plain": [
       "71    80\n",
       "70     6\n",
       "72     1\n",
       "61     1\n",
       "Name: idx, dtype: int64"
      ]
     },
     "execution_count": 11,
     "metadata": {},
     "output_type": "execute_result"
    }
   ],
   "source": [
    "schedule_df[schedule_df.line.isin(['122'])].idx.value_counts().value_counts()"
   ]
  },
  {
   "cell_type": "code",
   "execution_count": null,
   "metadata": {},
   "outputs": [],
   "source": [
    "schedule_df[schedule_df.line.isin(['122'])].idx.value_counts().sort_index()"
   ]
  },
  {
   "cell_type": "code",
   "execution_count": 13,
   "metadata": {},
   "outputs": [
    {
     "data": {
      "text/plain": [
       "7      36\n",
       "1      26\n",
       "011     9\n",
       "Name: brygada, dtype: int64"
      ]
     },
     "execution_count": 13,
     "metadata": {},
     "output_type": "execute_result"
    }
   ],
   "source": [
    "schedule_df[schedule_df.line.isin(['122'])\n",
    "            & schedule_df.index.isin([1])\n",
    "           ].sort_values(['kierunek', 'czas']).brygada.value_counts()"
   ]
  },
  {
   "cell_type": "code",
   "execution_count": null,
   "metadata": {},
   "outputs": [],
   "source": [
    "%%time \n",
    "schedule_df[schedule_df.line.isin(['122']) \n",
    "                  & schedule_df.kierunek.isin(['Gwiaździsta'])\n",
    "                  & schedule_df.idx.isin(['10'])].sort_values(['czas'])['id_nu'].tolist()"
   ]
  },
  {
   "cell_type": "code",
   "execution_count": 12,
   "metadata": {},
   "outputs": [
    {
     "data": {
      "text/html": [
       "<div>\n",
       "<style scoped>\n",
       "    .dataframe tbody tr th:only-of-type {\n",
       "        vertical-align: middle;\n",
       "    }\n",
       "\n",
       "    .dataframe tbody tr th {\n",
       "        vertical-align: top;\n",
       "    }\n",
       "\n",
       "    .dataframe thead th {\n",
       "        text-align: right;\n",
       "    }\n",
       "</style>\n",
       "<table border=\"1\" class=\"dataframe\">\n",
       "  <thead>\n",
       "    <tr style=\"text-align: right;\">\n",
       "      <th></th>\n",
       "      <th>zespol</th>\n",
       "      <th>nazwa_zespolu</th>\n",
       "      <th>slupek</th>\n",
       "      <th>id_ulicy</th>\n",
       "      <th>kierunek</th>\n",
       "      <th>dlug_geo</th>\n",
       "      <th>szer_geo</th>\n",
       "      <th>obowiazuje_od</th>\n",
       "      <th>line</th>\n",
       "      <th>id_nu</th>\n",
       "      <th>no_line</th>\n",
       "      <th>changed</th>\n",
       "      <th>error</th>\n",
       "      <th>last_change</th>\n",
       "      <th>actual</th>\n",
       "      <th>deleted</th>\n",
       "      <th>dlug_f</th>\n",
       "      <th>szer_f</th>\n",
       "      <th>coord</th>\n",
       "    </tr>\n",
       "  </thead>\n",
       "  <tbody>\n",
       "    <tr>\n",
       "      <th>53</th>\n",
       "      <td>1006</td>\n",
       "      <td>rondo Starzyńskiego</td>\n",
       "      <td>03</td>\n",
       "      <td>2001</td>\n",
       "      <td>Wybrzeże Helskie</td>\n",
       "      <td>21.019762</td>\n",
       "      <td>52.263453</td>\n",
       "      <td>2019-09-19</td>\n",
       "      <td>{1, 4, 6, 18, 28, 41}</td>\n",
       "      <td>1006_03</td>\n",
       "      <td>False</td>\n",
       "      <td>1</td>\n",
       "      <td>False</td>\n",
       "      <td>2019-09-19</td>\n",
       "      <td>True</td>\n",
       "      <td>False</td>\n",
       "      <td>21.019762</td>\n",
       "      <td>52.263453</td>\n",
       "      <td>(52.263453000000005, 21.019762)</td>\n",
       "    </tr>\n",
       "  </tbody>\n",
       "</table>\n",
       "</div>"
      ],
      "text/plain": [
       "   zespol        nazwa_zespolu slupek id_ulicy          kierunek   dlug_geo  \\\n",
       "53   1006  rondo Starzyńskiego     03     2001  Wybrzeże Helskie  21.019762   \n",
       "\n",
       "     szer_geo obowiazuje_od                   line    id_nu  no_line  changed  \\\n",
       "53  52.263453    2019-09-19  {1, 4, 6, 18, 28, 41}  1006_03    False        1   \n",
       "\n",
       "    error last_change  actual  deleted     dlug_f     szer_f  \\\n",
       "53  False  2019-09-19    True    False  21.019762  52.263453   \n",
       "\n",
       "                              coord  \n",
       "53  (52.263453000000005, 21.019762)  "
      ]
     },
     "execution_count": 12,
     "metadata": {},
     "output_type": "execute_result"
    }
   ],
   "source": [
    "stops_df[stops_df.id_nu.isin(['1006_03'])]"
   ]
  },
  {
   "cell_type": "code",
   "execution_count": 14,
   "metadata": {},
   "outputs": [
    {
     "data": {
      "text/plain": [
       "1     211\n",
       "18    102\n",
       "6     102\n",
       "28     98\n",
       "41     95\n",
       "4       6\n",
       "Name: line, dtype: int64"
      ]
     },
     "execution_count": 14,
     "metadata": {},
     "output_type": "execute_result"
    }
   ],
   "source": [
    "schedule_df[schedule_df.id_nu.isin(['1006_03'])]['line'].value_counts()"
   ]
  },
  {
   "cell_type": "code",
   "execution_count": null,
   "metadata": {},
   "outputs": [],
   "source": [
    "schedule_df[schedule_df.id_nu.isin(['1006_03'])]['line']"
   ]
  }
 ],
 "metadata": {
  "kernelspec": {
   "display_name": "Python 3",
   "language": "python",
   "name": "python3"
  },
  "language_info": {
   "codemirror_mode": {
    "name": "ipython",
    "version": 3
   },
   "file_extension": ".py",
   "mimetype": "text/x-python",
   "name": "python",
   "nbconvert_exporter": "python",
   "pygments_lexer": "ipython3",
   "version": "3.7.1"
  }
 },
 "nbformat": 4,
 "nbformat_minor": 2
}
